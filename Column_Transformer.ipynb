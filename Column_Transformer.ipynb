{
 "cells": [
  {
   "cell_type": "code",
   "execution_count": 1,
   "id": "5e65f0cb",
   "metadata": {},
   "outputs": [],
   "source": [
    "import numpy as np\n",
    "import pandas as pd"
   ]
  },
  {
   "cell_type": "code",
   "execution_count": 2,
   "id": "39352c6e",
   "metadata": {},
   "outputs": [],
   "source": [
    "from sklearn.impute import SimpleImputer\n",
    "from sklearn.preprocessing import OneHotEncoder\n",
    "from sklearn.preprocessing import OrdinalEncoder"
   ]
  },
  {
   "cell_type": "code",
   "execution_count": 3,
   "id": "f41e9ace",
   "metadata": {},
   "outputs": [],
   "source": [
    "data = pd.read_csv('Covid_toy.csv')"
   ]
  },
  {
   "cell_type": "code",
   "execution_count": 4,
   "id": "a0543195",
   "metadata": {},
   "outputs": [
    {
     "data": {
      "text/html": [
       "<div>\n",
       "<style scoped>\n",
       "    .dataframe tbody tr th:only-of-type {\n",
       "        vertical-align: middle;\n",
       "    }\n",
       "\n",
       "    .dataframe tbody tr th {\n",
       "        vertical-align: top;\n",
       "    }\n",
       "\n",
       "    .dataframe thead th {\n",
       "        text-align: right;\n",
       "    }\n",
       "</style>\n",
       "<table border=\"1\" class=\"dataframe\">\n",
       "  <thead>\n",
       "    <tr style=\"text-align: right;\">\n",
       "      <th></th>\n",
       "      <th>Unnamed: 0</th>\n",
       "      <th>age</th>\n",
       "      <th>gender</th>\n",
       "      <th>fever</th>\n",
       "      <th>cough</th>\n",
       "      <th>city</th>\n",
       "      <th>has_covid</th>\n",
       "    </tr>\n",
       "  </thead>\n",
       "  <tbody>\n",
       "    <tr>\n",
       "      <th>0</th>\n",
       "      <td>0</td>\n",
       "      <td>60</td>\n",
       "      <td>Male</td>\n",
       "      <td>103.0</td>\n",
       "      <td>Mild</td>\n",
       "      <td>Kolkata</td>\n",
       "      <td>No</td>\n",
       "    </tr>\n",
       "    <tr>\n",
       "      <th>1</th>\n",
       "      <td>1</td>\n",
       "      <td>27</td>\n",
       "      <td>Male</td>\n",
       "      <td>100.0</td>\n",
       "      <td>Mild</td>\n",
       "      <td>Delhi</td>\n",
       "      <td>Yes</td>\n",
       "    </tr>\n",
       "    <tr>\n",
       "      <th>2</th>\n",
       "      <td>2</td>\n",
       "      <td>42</td>\n",
       "      <td>Male</td>\n",
       "      <td>101.0</td>\n",
       "      <td>Mild</td>\n",
       "      <td>Delhi</td>\n",
       "      <td>No</td>\n",
       "    </tr>\n",
       "    <tr>\n",
       "      <th>3</th>\n",
       "      <td>3</td>\n",
       "      <td>31</td>\n",
       "      <td>Female</td>\n",
       "      <td>98.0</td>\n",
       "      <td>Mild</td>\n",
       "      <td>Kolkata</td>\n",
       "      <td>No</td>\n",
       "    </tr>\n",
       "    <tr>\n",
       "      <th>4</th>\n",
       "      <td>4</td>\n",
       "      <td>65</td>\n",
       "      <td>Female</td>\n",
       "      <td>101.0</td>\n",
       "      <td>Mild</td>\n",
       "      <td>Mumbai</td>\n",
       "      <td>No</td>\n",
       "    </tr>\n",
       "  </tbody>\n",
       "</table>\n",
       "</div>"
      ],
      "text/plain": [
       "   Unnamed: 0  age  gender  fever cough     city has_covid\n",
       "0           0   60    Male  103.0  Mild  Kolkata        No\n",
       "1           1   27    Male  100.0  Mild    Delhi       Yes\n",
       "2           2   42    Male  101.0  Mild    Delhi        No\n",
       "3           3   31  Female   98.0  Mild  Kolkata        No\n",
       "4           4   65  Female  101.0  Mild   Mumbai        No"
      ]
     },
     "execution_count": 4,
     "metadata": {},
     "output_type": "execute_result"
    }
   ],
   "source": [
    "data.head()"
   ]
  },
  {
   "cell_type": "code",
   "execution_count": 5,
   "id": "d41abd3b",
   "metadata": {},
   "outputs": [
    {
     "name": "stdout",
     "output_type": "stream",
     "text": [
      "    age  gender  fever   cough       city has_covid\n",
      "0    60    Male  103.0    Mild    Kolkata        No\n",
      "1    27    Male  100.0    Mild      Delhi       Yes\n",
      "2    42    Male  101.0    Mild      Delhi        No\n",
      "3    31  Female   98.0    Mild    Kolkata        No\n",
      "4    65  Female  101.0    Mild     Mumbai        No\n",
      "..  ...     ...    ...     ...        ...       ...\n",
      "95   12  Female  104.0    Mild  Bangalore        No\n",
      "96   51  Female  101.0  Strong    Kolkata       Yes\n",
      "97   20  Female  101.0    Mild  Bangalore        No\n",
      "98    5  Female   98.0  Strong     Mumbai        No\n",
      "99   10  Female   98.0  Strong    Kolkata       Yes\n",
      "\n",
      "[100 rows x 6 columns]\n"
     ]
    }
   ],
   "source": [
    "df = pd.DataFrame(data)\n",
    "\n",
    "# Remove the 'Unnamed: 0' column\n",
    "df = df.drop('Unnamed: 0', axis=1)\n",
    "\n",
    "# Display the modified DataFrame\n",
    "print(df)"
   ]
  },
  {
   "cell_type": "code",
   "execution_count": 6,
   "id": "efd72325",
   "metadata": {},
   "outputs": [
    {
     "data": {
      "text/html": [
       "<div>\n",
       "<style scoped>\n",
       "    .dataframe tbody tr th:only-of-type {\n",
       "        vertical-align: middle;\n",
       "    }\n",
       "\n",
       "    .dataframe tbody tr th {\n",
       "        vertical-align: top;\n",
       "    }\n",
       "\n",
       "    .dataframe thead th {\n",
       "        text-align: right;\n",
       "    }\n",
       "</style>\n",
       "<table border=\"1\" class=\"dataframe\">\n",
       "  <thead>\n",
       "    <tr style=\"text-align: right;\">\n",
       "      <th></th>\n",
       "      <th>age</th>\n",
       "      <th>gender</th>\n",
       "      <th>fever</th>\n",
       "      <th>cough</th>\n",
       "      <th>city</th>\n",
       "      <th>has_covid</th>\n",
       "    </tr>\n",
       "  </thead>\n",
       "  <tbody>\n",
       "    <tr>\n",
       "      <th>0</th>\n",
       "      <td>60</td>\n",
       "      <td>Male</td>\n",
       "      <td>103.0</td>\n",
       "      <td>Mild</td>\n",
       "      <td>Kolkata</td>\n",
       "      <td>No</td>\n",
       "    </tr>\n",
       "    <tr>\n",
       "      <th>1</th>\n",
       "      <td>27</td>\n",
       "      <td>Male</td>\n",
       "      <td>100.0</td>\n",
       "      <td>Mild</td>\n",
       "      <td>Delhi</td>\n",
       "      <td>Yes</td>\n",
       "    </tr>\n",
       "    <tr>\n",
       "      <th>2</th>\n",
       "      <td>42</td>\n",
       "      <td>Male</td>\n",
       "      <td>101.0</td>\n",
       "      <td>Mild</td>\n",
       "      <td>Delhi</td>\n",
       "      <td>No</td>\n",
       "    </tr>\n",
       "    <tr>\n",
       "      <th>3</th>\n",
       "      <td>31</td>\n",
       "      <td>Female</td>\n",
       "      <td>98.0</td>\n",
       "      <td>Mild</td>\n",
       "      <td>Kolkata</td>\n",
       "      <td>No</td>\n",
       "    </tr>\n",
       "    <tr>\n",
       "      <th>4</th>\n",
       "      <td>65</td>\n",
       "      <td>Female</td>\n",
       "      <td>101.0</td>\n",
       "      <td>Mild</td>\n",
       "      <td>Mumbai</td>\n",
       "      <td>No</td>\n",
       "    </tr>\n",
       "    <tr>\n",
       "      <th>5</th>\n",
       "      <td>84</td>\n",
       "      <td>Female</td>\n",
       "      <td>NaN</td>\n",
       "      <td>Mild</td>\n",
       "      <td>Bangalore</td>\n",
       "      <td>Yes</td>\n",
       "    </tr>\n",
       "    <tr>\n",
       "      <th>6</th>\n",
       "      <td>14</td>\n",
       "      <td>Male</td>\n",
       "      <td>101.0</td>\n",
       "      <td>Strong</td>\n",
       "      <td>Bangalore</td>\n",
       "      <td>No</td>\n",
       "    </tr>\n",
       "    <tr>\n",
       "      <th>7</th>\n",
       "      <td>20</td>\n",
       "      <td>Female</td>\n",
       "      <td>NaN</td>\n",
       "      <td>Strong</td>\n",
       "      <td>Mumbai</td>\n",
       "      <td>Yes</td>\n",
       "    </tr>\n",
       "    <tr>\n",
       "      <th>8</th>\n",
       "      <td>19</td>\n",
       "      <td>Female</td>\n",
       "      <td>100.0</td>\n",
       "      <td>Strong</td>\n",
       "      <td>Bangalore</td>\n",
       "      <td>No</td>\n",
       "    </tr>\n",
       "    <tr>\n",
       "      <th>9</th>\n",
       "      <td>64</td>\n",
       "      <td>Female</td>\n",
       "      <td>101.0</td>\n",
       "      <td>Mild</td>\n",
       "      <td>Delhi</td>\n",
       "      <td>No</td>\n",
       "    </tr>\n",
       "  </tbody>\n",
       "</table>\n",
       "</div>"
      ],
      "text/plain": [
       "   age  gender  fever   cough       city has_covid\n",
       "0   60    Male  103.0    Mild    Kolkata        No\n",
       "1   27    Male  100.0    Mild      Delhi       Yes\n",
       "2   42    Male  101.0    Mild      Delhi        No\n",
       "3   31  Female   98.0    Mild    Kolkata        No\n",
       "4   65  Female  101.0    Mild     Mumbai        No\n",
       "5   84  Female    NaN    Mild  Bangalore       Yes\n",
       "6   14    Male  101.0  Strong  Bangalore        No\n",
       "7   20  Female    NaN  Strong     Mumbai       Yes\n",
       "8   19  Female  100.0  Strong  Bangalore        No\n",
       "9   64  Female  101.0    Mild      Delhi        No"
      ]
     },
     "execution_count": 6,
     "metadata": {},
     "output_type": "execute_result"
    }
   ],
   "source": [
    "df.head(10)"
   ]
  },
  {
   "cell_type": "code",
   "execution_count": 7,
   "id": "0f431a43",
   "metadata": {},
   "outputs": [
    {
     "data": {
      "text/plain": [
       "cough\n",
       "Mild      62\n",
       "Strong    38\n",
       "Name: count, dtype: int64"
      ]
     },
     "execution_count": 7,
     "metadata": {},
     "output_type": "execute_result"
    }
   ],
   "source": [
    "df['cough'].value_counts()"
   ]
  },
  {
   "cell_type": "code",
   "execution_count": 8,
   "id": "f48a2191",
   "metadata": {},
   "outputs": [
    {
     "data": {
      "text/plain": [
       "city\n",
       "Kolkata      32\n",
       "Bangalore    30\n",
       "Delhi        22\n",
       "Mumbai       16\n",
       "Name: count, dtype: int64"
      ]
     },
     "execution_count": 8,
     "metadata": {},
     "output_type": "execute_result"
    }
   ],
   "source": [
    "df['city'].value_counts()"
   ]
  },
  {
   "cell_type": "code",
   "execution_count": 9,
   "id": "9638859d",
   "metadata": {},
   "outputs": [
    {
     "data": {
      "text/plain": [
       "age           0\n",
       "gender        0\n",
       "fever        10\n",
       "cough         0\n",
       "city          0\n",
       "has_covid     0\n",
       "dtype: int64"
      ]
     },
     "execution_count": 9,
     "metadata": {},
     "output_type": "execute_result"
    }
   ],
   "source": [
    "df.isnull().sum()"
   ]
  },
  {
   "cell_type": "code",
   "execution_count": 10,
   "id": "916b55ee",
   "metadata": {},
   "outputs": [],
   "source": [
    "from sklearn.model_selection import train_test_split\n",
    "X_train,X_test,y_train,y_test = train_test_split(df.drop(columns=['has_covid']),df['has_covid'],test_size=0.2)"
   ]
  },
  {
   "cell_type": "code",
   "execution_count": 11,
   "id": "f03cc176",
   "metadata": {},
   "outputs": [
    {
     "data": {
      "text/html": [
       "<div>\n",
       "<style scoped>\n",
       "    .dataframe tbody tr th:only-of-type {\n",
       "        vertical-align: middle;\n",
       "    }\n",
       "\n",
       "    .dataframe tbody tr th {\n",
       "        vertical-align: top;\n",
       "    }\n",
       "\n",
       "    .dataframe thead th {\n",
       "        text-align: right;\n",
       "    }\n",
       "</style>\n",
       "<table border=\"1\" class=\"dataframe\">\n",
       "  <thead>\n",
       "    <tr style=\"text-align: right;\">\n",
       "      <th></th>\n",
       "      <th>age</th>\n",
       "      <th>gender</th>\n",
       "      <th>fever</th>\n",
       "      <th>cough</th>\n",
       "      <th>city</th>\n",
       "    </tr>\n",
       "  </thead>\n",
       "  <tbody>\n",
       "    <tr>\n",
       "      <th>32</th>\n",
       "      <td>34</td>\n",
       "      <td>Female</td>\n",
       "      <td>101.0</td>\n",
       "      <td>Strong</td>\n",
       "      <td>Delhi</td>\n",
       "    </tr>\n",
       "    <tr>\n",
       "      <th>22</th>\n",
       "      <td>71</td>\n",
       "      <td>Female</td>\n",
       "      <td>98.0</td>\n",
       "      <td>Strong</td>\n",
       "      <td>Kolkata</td>\n",
       "    </tr>\n",
       "    <tr>\n",
       "      <th>0</th>\n",
       "      <td>60</td>\n",
       "      <td>Male</td>\n",
       "      <td>103.0</td>\n",
       "      <td>Mild</td>\n",
       "      <td>Kolkata</td>\n",
       "    </tr>\n",
       "    <tr>\n",
       "      <th>67</th>\n",
       "      <td>65</td>\n",
       "      <td>Male</td>\n",
       "      <td>99.0</td>\n",
       "      <td>Mild</td>\n",
       "      <td>Bangalore</td>\n",
       "    </tr>\n",
       "    <tr>\n",
       "      <th>77</th>\n",
       "      <td>8</td>\n",
       "      <td>Female</td>\n",
       "      <td>101.0</td>\n",
       "      <td>Mild</td>\n",
       "      <td>Kolkata</td>\n",
       "    </tr>\n",
       "    <tr>\n",
       "      <th>...</th>\n",
       "      <td>...</td>\n",
       "      <td>...</td>\n",
       "      <td>...</td>\n",
       "      <td>...</td>\n",
       "      <td>...</td>\n",
       "    </tr>\n",
       "    <tr>\n",
       "      <th>48</th>\n",
       "      <td>66</td>\n",
       "      <td>Male</td>\n",
       "      <td>99.0</td>\n",
       "      <td>Strong</td>\n",
       "      <td>Bangalore</td>\n",
       "    </tr>\n",
       "    <tr>\n",
       "      <th>92</th>\n",
       "      <td>82</td>\n",
       "      <td>Female</td>\n",
       "      <td>102.0</td>\n",
       "      <td>Strong</td>\n",
       "      <td>Kolkata</td>\n",
       "    </tr>\n",
       "    <tr>\n",
       "      <th>4</th>\n",
       "      <td>65</td>\n",
       "      <td>Female</td>\n",
       "      <td>101.0</td>\n",
       "      <td>Mild</td>\n",
       "      <td>Mumbai</td>\n",
       "    </tr>\n",
       "    <tr>\n",
       "      <th>79</th>\n",
       "      <td>48</td>\n",
       "      <td>Female</td>\n",
       "      <td>103.0</td>\n",
       "      <td>Mild</td>\n",
       "      <td>Kolkata</td>\n",
       "    </tr>\n",
       "    <tr>\n",
       "      <th>33</th>\n",
       "      <td>26</td>\n",
       "      <td>Female</td>\n",
       "      <td>98.0</td>\n",
       "      <td>Mild</td>\n",
       "      <td>Kolkata</td>\n",
       "    </tr>\n",
       "  </tbody>\n",
       "</table>\n",
       "<p>80 rows × 5 columns</p>\n",
       "</div>"
      ],
      "text/plain": [
       "    age  gender  fever   cough       city\n",
       "32   34  Female  101.0  Strong      Delhi\n",
       "22   71  Female   98.0  Strong    Kolkata\n",
       "0    60    Male  103.0    Mild    Kolkata\n",
       "67   65    Male   99.0    Mild  Bangalore\n",
       "77    8  Female  101.0    Mild    Kolkata\n",
       "..  ...     ...    ...     ...        ...\n",
       "48   66    Male   99.0  Strong  Bangalore\n",
       "92   82  Female  102.0  Strong    Kolkata\n",
       "4    65  Female  101.0    Mild     Mumbai\n",
       "79   48  Female  103.0    Mild    Kolkata\n",
       "33   26  Female   98.0    Mild    Kolkata\n",
       "\n",
       "[80 rows x 5 columns]"
      ]
     },
     "execution_count": 11,
     "metadata": {},
     "output_type": "execute_result"
    }
   ],
   "source": [
    "X_train"
   ]
  },
  {
   "cell_type": "markdown",
   "id": "8e999432",
   "metadata": {},
   "source": [
    "# 1.Usual method"
   ]
  },
  {
   "cell_type": "code",
   "execution_count": 12,
   "id": "c23ada50",
   "metadata": {},
   "outputs": [],
   "source": [
    "#adding simple imputer to fever column"
   ]
  },
  {
   "cell_type": "code",
   "execution_count": 13,
   "id": "20871a10",
   "metadata": {},
   "outputs": [],
   "source": [
    "si = SimpleImputer()"
   ]
  },
  {
   "cell_type": "code",
   "execution_count": 14,
   "id": "d48daa57",
   "metadata": {},
   "outputs": [],
   "source": [
    "X_train_fever = si.fit_transform(X_train[['fever']])"
   ]
  },
  {
   "cell_type": "code",
   "execution_count": 15,
   "id": "e1a97cae",
   "metadata": {},
   "outputs": [
    {
     "data": {
      "text/plain": [
       "array([[101.  ],\n",
       "       [ 98.  ],\n",
       "       [103.  ],\n",
       "       [ 99.  ],\n",
       "       [101.  ],\n",
       "       [ 99.  ],\n",
       "       [ 99.  ],\n",
       "       [ 98.  ],\n",
       "       [100.75],\n",
       "       [104.  ],\n",
       "       [102.  ],\n",
       "       [ 99.  ],\n",
       "       [100.75],\n",
       "       [ 98.  ],\n",
       "       [100.  ],\n",
       "       [ 99.  ],\n",
       "       [ 99.  ],\n",
       "       [101.  ],\n",
       "       [102.  ],\n",
       "       [100.75],\n",
       "       [100.  ],\n",
       "       [ 99.  ],\n",
       "       [104.  ],\n",
       "       [104.  ],\n",
       "       [101.  ],\n",
       "       [100.75],\n",
       "       [ 99.  ],\n",
       "       [ 98.  ],\n",
       "       [100.  ],\n",
       "       [ 98.  ],\n",
       "       [100.  ],\n",
       "       [100.  ],\n",
       "       [104.  ],\n",
       "       [101.  ],\n",
       "       [104.  ],\n",
       "       [101.  ],\n",
       "       [101.  ],\n",
       "       [ 98.  ],\n",
       "       [102.  ],\n",
       "       [100.  ],\n",
       "       [102.  ],\n",
       "       [104.  ],\n",
       "       [100.75],\n",
       "       [101.  ],\n",
       "       [ 98.  ],\n",
       "       [101.  ],\n",
       "       [100.  ],\n",
       "       [102.  ],\n",
       "       [104.  ],\n",
       "       [103.  ],\n",
       "       [103.  ],\n",
       "       [100.  ],\n",
       "       [104.  ],\n",
       "       [100.75],\n",
       "       [104.  ],\n",
       "       [100.75],\n",
       "       [101.  ],\n",
       "       [101.  ],\n",
       "       [101.  ],\n",
       "       [100.75],\n",
       "       [ 98.  ],\n",
       "       [100.  ],\n",
       "       [103.  ],\n",
       "       [100.  ],\n",
       "       [100.  ],\n",
       "       [102.  ],\n",
       "       [104.  ],\n",
       "       [ 98.  ],\n",
       "       [103.  ],\n",
       "       [ 98.  ],\n",
       "       [ 98.  ],\n",
       "       [ 99.  ],\n",
       "       [100.  ],\n",
       "       [102.  ],\n",
       "       [101.  ],\n",
       "       [ 99.  ],\n",
       "       [102.  ],\n",
       "       [101.  ],\n",
       "       [103.  ],\n",
       "       [ 98.  ]])"
      ]
     },
     "execution_count": 15,
     "metadata": {},
     "output_type": "execute_result"
    }
   ],
   "source": [
    "X_train_fever"
   ]
  },
  {
   "cell_type": "code",
   "execution_count": 16,
   "id": "bd6383ca",
   "metadata": {},
   "outputs": [
    {
     "data": {
      "text/plain": [
       "(80, 1)"
      ]
     },
     "execution_count": 16,
     "metadata": {},
     "output_type": "execute_result"
    }
   ],
   "source": [
    "#Also add it to test data\n",
    "X_test_fever = si.fit_transform(X_test[['fever']])\n",
    "\n",
    "X_train_fever.shape"
   ]
  },
  {
   "cell_type": "code",
   "execution_count": 17,
   "id": "7eca648a",
   "metadata": {},
   "outputs": [],
   "source": [
    "#Ordinal Encoding for Cough column"
   ]
  },
  {
   "cell_type": "code",
   "execution_count": 18,
   "id": "faa82fd0",
   "metadata": {},
   "outputs": [
    {
     "data": {
      "text/plain": [
       "(80, 1)"
      ]
     },
     "execution_count": 18,
     "metadata": {},
     "output_type": "execute_result"
    }
   ],
   "source": [
    "oe = OrdinalEncoder(categories=[['Mild','Strong']])\n",
    "X_train_cough = oe.fit_transform(X_train[['cough']])\n",
    "\n",
    "#Also to the test data\n",
    "X_test_cough = oe.fit_transform(X_test[['cough']])\n",
    "\n",
    "X_train_cough.shape\n"
   ]
  },
  {
   "cell_type": "code",
   "execution_count": 19,
   "id": "825cdb0a",
   "metadata": {},
   "outputs": [
    {
     "name": "stderr",
     "output_type": "stream",
     "text": [
      "C:\\Users\\Vipul\\anaconda3\\lib\\site-packages\\sklearn\\preprocessing\\_encoders.py:972: FutureWarning: `sparse` was renamed to `sparse_output` in version 1.2 and will be removed in 1.4. `sparse_output` is ignored unless you leave `sparse` to its default value.\n",
      "  warnings.warn(\n",
      "C:\\Users\\Vipul\\anaconda3\\lib\\site-packages\\sklearn\\preprocessing\\_encoders.py:972: FutureWarning: `sparse` was renamed to `sparse_output` in version 1.2 and will be removed in 1.4. `sparse_output` is ignored unless you leave `sparse` to its default value.\n",
      "  warnings.warn(\n"
     ]
    },
    {
     "data": {
      "text/plain": [
       "(80, 4)"
      ]
     },
     "execution_count": 19,
     "metadata": {},
     "output_type": "execute_result"
    }
   ],
   "source": [
    "#OneHotEncoding on Gender,City\n",
    "ohe = OneHotEncoder(drop='first',sparse=False)\n",
    "X_train_gender_city = ohe.fit_transform(X_train[['gender','city']])\n",
    "\n",
    "#also the test data\n",
    "X_test_gender_city = ohe.fit_transform(X_test[['gender','city']])\n",
    "\n",
    "X_train_gender_city.shape\n"
   ]
  },
  {
   "cell_type": "code",
   "execution_count": 20,
   "id": "c473bce6",
   "metadata": {},
   "outputs": [
    {
     "data": {
      "text/plain": [
       "array([[0., 1., 0., 0.],\n",
       "       [0., 0., 1., 0.],\n",
       "       [1., 0., 1., 0.],\n",
       "       [1., 0., 0., 0.],\n",
       "       [0., 0., 1., 0.],\n",
       "       [0., 0., 0., 0.],\n",
       "       [0., 0., 1., 0.],\n",
       "       [1., 0., 0., 0.],\n",
       "       [0., 0., 0., 0.],\n",
       "       [0., 0., 0., 0.],\n",
       "       [0., 0., 0., 0.],\n",
       "       [0., 1., 0., 0.],\n",
       "       [0., 0., 0., 0.],\n",
       "       [1., 0., 1., 0.],\n",
       "       [1., 1., 0., 0.],\n",
       "       [1., 0., 0., 0.],\n",
       "       [0., 0., 0., 1.],\n",
       "       [0., 0., 0., 0.],\n",
       "       [1., 0., 0., 0.],\n",
       "       [1., 0., 1., 0.],\n",
       "       [1., 0., 1., 0.],\n",
       "       [0., 0., 0., 1.],\n",
       "       [1., 0., 1., 0.],\n",
       "       [1., 0., 0., 0.],\n",
       "       [0., 0., 1., 0.],\n",
       "       [1., 0., 1., 0.],\n",
       "       [1., 1., 0., 0.],\n",
       "       [0., 0., 1., 0.],\n",
       "       [1., 0., 1., 0.],\n",
       "       [0., 0., 1., 0.],\n",
       "       [1., 0., 0., 0.],\n",
       "       [0., 0., 1., 0.],\n",
       "       [0., 0., 1., 0.],\n",
       "       [1., 0., 0., 0.],\n",
       "       [1., 0., 0., 0.],\n",
       "       [0., 0., 0., 1.],\n",
       "       [1., 1., 0., 0.],\n",
       "       [0., 0., 0., 1.],\n",
       "       [1., 0., 1., 0.],\n",
       "       [0., 0., 0., 0.],\n",
       "       [0., 0., 0., 0.],\n",
       "       [0., 0., 0., 0.],\n",
       "       [0., 0., 0., 1.],\n",
       "       [0., 1., 0., 0.],\n",
       "       [1., 0., 0., 1.],\n",
       "       [1., 0., 0., 0.],\n",
       "       [1., 0., 0., 0.],\n",
       "       [0., 1., 0., 0.],\n",
       "       [0., 0., 1., 0.],\n",
       "       [1., 0., 0., 0.],\n",
       "       [0., 0., 1., 0.],\n",
       "       [0., 0., 1., 0.],\n",
       "       [1., 0., 0., 1.],\n",
       "       [0., 0., 0., 1.],\n",
       "       [1., 0., 0., 1.],\n",
       "       [1., 1., 0., 0.],\n",
       "       [0., 0., 1., 0.],\n",
       "       [0., 1., 0., 0.],\n",
       "       [1., 1., 0., 0.],\n",
       "       [1., 0., 1., 0.],\n",
       "       [0., 1., 0., 0.],\n",
       "       [1., 0., 0., 0.],\n",
       "       [0., 0., 0., 0.],\n",
       "       [0., 0., 1., 0.],\n",
       "       [0., 0., 0., 0.],\n",
       "       [0., 1., 0., 0.],\n",
       "       [1., 0., 1., 0.],\n",
       "       [1., 0., 0., 0.],\n",
       "       [1., 0., 1., 0.],\n",
       "       [0., 0., 0., 1.],\n",
       "       [0., 1., 0., 0.],\n",
       "       [0., 0., 0., 0.],\n",
       "       [0., 0., 1., 0.],\n",
       "       [1., 1., 0., 0.],\n",
       "       [0., 0., 0., 1.],\n",
       "       [1., 0., 0., 0.],\n",
       "       [0., 0., 1., 0.],\n",
       "       [0., 0., 0., 1.],\n",
       "       [0., 0., 1., 0.],\n",
       "       [0., 0., 1., 0.]])"
      ]
     },
     "execution_count": 20,
     "metadata": {},
     "output_type": "execute_result"
    }
   ],
   "source": [
    "X_train_gender_city"
   ]
  },
  {
   "cell_type": "code",
   "execution_count": 21,
   "id": "092db23a",
   "metadata": {},
   "outputs": [],
   "source": [
    "#Extracting Age\n",
    "X_train_age = X_train.drop(columns=['gender','fever','cough','city']).values"
   ]
  },
  {
   "cell_type": "code",
   "execution_count": 22,
   "id": "0f17ca92",
   "metadata": {},
   "outputs": [
    {
     "data": {
      "text/plain": [
       "(80, 1)"
      ]
     },
     "execution_count": 22,
     "metadata": {},
     "output_type": "execute_result"
    }
   ],
   "source": [
    "#also the test data\n",
    "X_test_age = X_test.drop(columns=['gender','fever','cough','city']).values\n",
    "\n",
    "X_train_age.shape"
   ]
  },
  {
   "cell_type": "code",
   "execution_count": 23,
   "id": "0f9d3801",
   "metadata": {},
   "outputs": [],
   "source": [
    "X_train_transformed = np.concatenate((X_train_age,X_train_fever,X_train_gender_city,X_train_cough),axis=1)\n",
    "X_test_transformed = np.concatenate((X_test_age,X_test_fever,X_test_gender_city,X_test_cough),axis=1)"
   ]
  },
  {
   "cell_type": "code",
   "execution_count": 24,
   "id": "bbdb3fbb",
   "metadata": {},
   "outputs": [
    {
     "data": {
      "text/plain": [
       "array([[ 34.  , 101.  ,   0.  ,   1.  ,   0.  ,   0.  ,   1.  ],\n",
       "       [ 71.  ,  98.  ,   0.  ,   0.  ,   1.  ,   0.  ,   1.  ],\n",
       "       [ 60.  , 103.  ,   1.  ,   0.  ,   1.  ,   0.  ,   0.  ],\n",
       "       [ 65.  ,  99.  ,   1.  ,   0.  ,   0.  ,   0.  ,   0.  ],\n",
       "       [  8.  , 101.  ,   0.  ,   0.  ,   1.  ,   0.  ,   0.  ],\n",
       "       [ 22.  ,  99.  ,   0.  ,   0.  ,   0.  ,   0.  ,   0.  ],\n",
       "       [ 25.  ,  99.  ,   0.  ,   0.  ,   1.  ,   0.  ,   1.  ],\n",
       "       [ 12.  ,  98.  ,   1.  ,   0.  ,   0.  ,   0.  ,   1.  ],\n",
       "       [ 42.  , 100.75,   0.  ,   0.  ,   0.  ,   0.  ,   1.  ],\n",
       "       [ 18.  , 104.  ,   0.  ,   0.  ,   0.  ,   0.  ,   0.  ],\n",
       "       [ 69.  , 102.  ,   0.  ,   0.  ,   0.  ,   0.  ,   0.  ],\n",
       "       [ 59.  ,  99.  ,   0.  ,   1.  ,   0.  ,   0.  ,   1.  ],\n",
       "       [ 84.  , 100.75,   0.  ,   0.  ,   0.  ,   0.  ,   0.  ],\n",
       "       [ 34.  ,  98.  ,   1.  ,   0.  ,   1.  ,   0.  ,   1.  ],\n",
       "       [ 27.  , 100.  ,   1.  ,   1.  ,   0.  ,   0.  ,   0.  ],\n",
       "       [ 72.  ,  99.  ,   1.  ,   0.  ,   0.  ,   0.  ,   0.  ],\n",
       "       [ 60.  ,  99.  ,   0.  ,   0.  ,   0.  ,   1.  ,   0.  ],\n",
       "       [ 20.  , 101.  ,   0.  ,   0.  ,   0.  ,   0.  ,   0.  ],\n",
       "       [ 64.  , 102.  ,   1.  ,   0.  ,   0.  ,   0.  ,   0.  ],\n",
       "       [ 71.  , 100.75,   1.  ,   0.  ,   1.  ,   0.  ,   1.  ],\n",
       "       [ 55.  , 100.  ,   1.  ,   0.  ,   1.  ,   0.  ,   0.  ],\n",
       "       [ 14.  ,  99.  ,   0.  ,   0.  ,   0.  ,   1.  ,   0.  ],\n",
       "       [ 51.  , 104.  ,   1.  ,   0.  ,   1.  ,   0.  ,   0.  ],\n",
       "       [ 25.  , 104.  ,   1.  ,   0.  ,   0.  ,   0.  ,   0.  ],\n",
       "       [ 51.  , 101.  ,   0.  ,   0.  ,   1.  ,   0.  ,   1.  ],\n",
       "       [ 79.  , 100.75,   1.  ,   0.  ,   1.  ,   0.  ,   1.  ],\n",
       "       [ 65.  ,  99.  ,   1.  ,   1.  ,   0.  ,   0.  ,   0.  ],\n",
       "       [ 31.  ,  98.  ,   0.  ,   0.  ,   1.  ,   0.  ,   0.  ],\n",
       "       [ 27.  , 100.  ,   1.  ,   0.  ,   1.  ,   0.  ,   0.  ],\n",
       "       [ 10.  ,  98.  ,   0.  ,   0.  ,   1.  ,   0.  ,   1.  ],\n",
       "       [ 80.  , 100.  ,   1.  ,   0.  ,   0.  ,   0.  ,   0.  ],\n",
       "       [ 11.  , 100.  ,   0.  ,   0.  ,   1.  ,   0.  ,   1.  ],\n",
       "       [ 17.  , 104.  ,   0.  ,   0.  ,   1.  ,   0.  ,   0.  ],\n",
       "       [ 14.  , 101.  ,   1.  ,   0.  ,   0.  ,   0.  ,   1.  ],\n",
       "       [ 51.  , 104.  ,   1.  ,   0.  ,   0.  ,   0.  ,   0.  ],\n",
       "       [ 81.  , 101.  ,   0.  ,   0.  ,   0.  ,   1.  ,   0.  ],\n",
       "       [ 42.  , 101.  ,   1.  ,   1.  ,   0.  ,   0.  ,   0.  ],\n",
       "       [  5.  ,  98.  ,   0.  ,   0.  ,   0.  ,   1.  ,   1.  ],\n",
       "       [  5.  , 102.  ,   1.  ,   0.  ,   1.  ,   0.  ,   0.  ],\n",
       "       [ 47.  , 100.  ,   0.  ,   0.  ,   0.  ,   0.  ,   1.  ],\n",
       "       [ 24.  , 102.  ,   0.  ,   0.  ,   0.  ,   0.  ,   1.  ],\n",
       "       [ 12.  , 104.  ,   0.  ,   0.  ,   0.  ,   0.  ,   0.  ],\n",
       "       [ 20.  , 100.75,   0.  ,   0.  ,   0.  ,   1.  ,   1.  ],\n",
       "       [ 68.  , 101.  ,   0.  ,   1.  ,   0.  ,   0.  ,   1.  ],\n",
       "       [ 23.  ,  98.  ,   1.  ,   0.  ,   0.  ,   1.  ,   1.  ],\n",
       "       [ 47.  , 101.  ,   1.  ,   0.  ,   0.  ,   0.  ,   1.  ],\n",
       "       [ 11.  , 100.  ,   1.  ,   0.  ,   0.  ,   0.  ,   0.  ],\n",
       "       [ 49.  , 102.  ,   0.  ,   1.  ,   0.  ,   0.  ,   0.  ],\n",
       "       [ 54.  , 104.  ,   0.  ,   0.  ,   1.  ,   0.  ,   1.  ],\n",
       "       [ 46.  , 103.  ,   1.  ,   0.  ,   0.  ,   0.  ,   1.  ],\n",
       "       [ 50.  , 103.  ,   0.  ,   0.  ,   1.  ,   0.  ,   0.  ],\n",
       "       [ 13.  , 100.  ,   0.  ,   0.  ,   1.  ,   0.  ,   1.  ],\n",
       "       [ 44.  , 104.  ,   1.  ,   0.  ,   0.  ,   1.  ,   0.  ],\n",
       "       [ 34.  , 100.75,   0.  ,   0.  ,   0.  ,   1.  ,   1.  ],\n",
       "       [ 42.  , 104.  ,   1.  ,   0.  ,   0.  ,   1.  ,   0.  ],\n",
       "       [ 38.  , 100.75,   1.  ,   1.  ,   0.  ,   0.  ,   0.  ],\n",
       "       [ 83.  , 101.  ,   0.  ,   0.  ,   1.  ,   0.  ,   0.  ],\n",
       "       [ 49.  , 101.  ,   0.  ,   1.  ,   0.  ,   0.  ,   0.  ],\n",
       "       [ 15.  , 101.  ,   1.  ,   1.  ,   0.  ,   0.  ,   0.  ],\n",
       "       [ 82.  , 100.75,   1.  ,   0.  ,   1.  ,   0.  ,   0.  ],\n",
       "       [ 80.  ,  98.  ,   0.  ,   1.  ,   0.  ,   0.  ,   0.  ],\n",
       "       [ 10.  , 100.  ,   1.  ,   0.  ,   0.  ,   0.  ,   0.  ],\n",
       "       [ 16.  , 103.  ,   0.  ,   0.  ,   0.  ,   0.  ,   0.  ],\n",
       "       [ 19.  , 100.  ,   0.  ,   0.  ,   1.  ,   0.  ,   0.  ],\n",
       "       [ 19.  , 100.  ,   0.  ,   0.  ,   0.  ,   0.  ,   1.  ],\n",
       "       [ 33.  , 102.  ,   0.  ,   1.  ,   0.  ,   0.  ,   1.  ],\n",
       "       [ 16.  , 104.  ,   1.  ,   0.  ,   1.  ,   0.  ,   0.  ],\n",
       "       [ 73.  ,  98.  ,   1.  ,   0.  ,   0.  ,   0.  ,   0.  ],\n",
       "       [ 83.  , 103.  ,   1.  ,   0.  ,   1.  ,   0.  ,   0.  ],\n",
       "       [ 69.  ,  98.  ,   0.  ,   0.  ,   0.  ,   1.  ,   1.  ],\n",
       "       [ 40.  ,  98.  ,   0.  ,   1.  ,   0.  ,   0.  ,   1.  ],\n",
       "       [ 49.  ,  99.  ,   0.  ,   0.  ,   0.  ,   0.  ,   1.  ],\n",
       "       [  5.  , 100.  ,   0.  ,   0.  ,   1.  ,   0.  ,   0.  ],\n",
       "       [ 20.  , 102.  ,   1.  ,   1.  ,   0.  ,   0.  ,   1.  ],\n",
       "       [ 19.  , 101.  ,   0.  ,   0.  ,   0.  ,   1.  ,   0.  ],\n",
       "       [ 66.  ,  99.  ,   1.  ,   0.  ,   0.  ,   0.  ,   1.  ],\n",
       "       [ 82.  , 102.  ,   0.  ,   0.  ,   1.  ,   0.  ,   1.  ],\n",
       "       [ 65.  , 101.  ,   0.  ,   0.  ,   0.  ,   1.  ,   0.  ],\n",
       "       [ 48.  , 103.  ,   0.  ,   0.  ,   1.  ,   0.  ,   0.  ],\n",
       "       [ 26.  ,  98.  ,   0.  ,   0.  ,   1.  ,   0.  ,   0.  ]])"
      ]
     },
     "execution_count": 24,
     "metadata": {},
     "output_type": "execute_result"
    }
   ],
   "source": [
    "X_train_transformed"
   ]
  },
  {
   "cell_type": "code",
   "execution_count": 25,
   "id": "4650fa5a",
   "metadata": {},
   "outputs": [
    {
     "data": {
      "text/plain": [
       "(80, 7)"
      ]
     },
     "execution_count": 25,
     "metadata": {},
     "output_type": "execute_result"
    }
   ],
   "source": [
    "X_train_transformed.shape"
   ]
  },
  {
   "cell_type": "markdown",
   "id": "7e92679a",
   "metadata": {},
   "source": [
    "# 2.Column transformation method"
   ]
  },
  {
   "cell_type": "code",
   "execution_count": 26,
   "id": "9f76d003",
   "metadata": {},
   "outputs": [],
   "source": [
    "from sklearn.compose import ColumnTransformer"
   ]
  },
  {
   "cell_type": "code",
   "execution_count": 31,
   "id": "9d1e9c6b",
   "metadata": {},
   "outputs": [],
   "source": [
    "transformer = ColumnTransformer(transformers=[\n",
    "    ('tnf1',SimpleImputer(),['fever']),\n",
    "    ('tnf2',OrdinalEncoder(categories=[['Mild','Strong']]),['cough']),\n",
    "    ('tnf3',OneHotEncoder(sparse=False,drop='first'),['gender','city'])\n",
    "],remainder='passthrough')"
   ]
  },
  {
   "cell_type": "code",
   "execution_count": 34,
   "id": "4ef804a8",
   "metadata": {},
   "outputs": [
    {
     "name": "stderr",
     "output_type": "stream",
     "text": [
      "C:\\Users\\Vipul\\anaconda3\\lib\\site-packages\\sklearn\\preprocessing\\_encoders.py:972: FutureWarning: `sparse` was renamed to `sparse_output` in version 1.2 and will be removed in 1.4. `sparse_output` is ignored unless you leave `sparse` to its default value.\n",
      "  warnings.warn(\n"
     ]
    },
    {
     "data": {
      "text/plain": [
       "(80, 7)"
      ]
     },
     "execution_count": 34,
     "metadata": {},
     "output_type": "execute_result"
    }
   ],
   "source": [
    "transformer.fit_transform(X_train).shape"
   ]
  },
  {
   "cell_type": "code",
   "execution_count": 35,
   "id": "4c2883cc",
   "metadata": {},
   "outputs": [
    {
     "data": {
      "text/plain": [
       "(20, 7)"
      ]
     },
     "execution_count": 35,
     "metadata": {},
     "output_type": "execute_result"
    }
   ],
   "source": [
    "transformer.transform(X_test).shape"
   ]
  },
  {
   "cell_type": "code",
   "execution_count": null,
   "id": "425902ee",
   "metadata": {},
   "outputs": [],
   "source": []
  }
 ],
 "metadata": {
  "kernelspec": {
   "display_name": "Python 3 (ipykernel)",
   "language": "python",
   "name": "python3"
  },
  "language_info": {
   "codemirror_mode": {
    "name": "ipython",
    "version": 3
   },
   "file_extension": ".py",
   "mimetype": "text/x-python",
   "name": "python",
   "nbconvert_exporter": "python",
   "pygments_lexer": "ipython3",
   "version": "3.10.9"
  }
 },
 "nbformat": 4,
 "nbformat_minor": 5
}
